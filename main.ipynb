{
 "cells": [
  {
   "metadata": {
    "collapsed": true,
    "ExecuteTime": {
     "end_time": "2024-12-03T13:52:53.805324Z",
     "start_time": "2024-12-03T13:52:49.332400Z"
    }
   },
   "cell_type": "code",
   "source": [
    "from main import MyViT\n",
    "!pip install wandb\n"
   ],
   "id": "initial_id",
   "outputs": [
    {
     "name": "stdout",
     "output_type": "stream",
     "text": [
      "Requirement already satisfied: wandb in /home/phong/miniconda3/lib/python3.12/site-packages (0.18.7)\r\n",
      "Requirement already satisfied: click!=8.0.0,>=7.1 in /home/phong/miniconda3/lib/python3.12/site-packages (from wandb) (8.1.7)\r\n",
      "Requirement already satisfied: docker-pycreds>=0.4.0 in /home/phong/miniconda3/lib/python3.12/site-packages (from wandb) (0.4.0)\r\n",
      "Requirement already satisfied: gitpython!=3.1.29,>=1.0.0 in /home/phong/miniconda3/lib/python3.12/site-packages (from wandb) (3.1.43)\r\n",
      "Requirement already satisfied: platformdirs in /home/phong/miniconda3/lib/python3.12/site-packages (from wandb) (3.10.0)\r\n",
      "Requirement already satisfied: protobuf!=4.21.0,!=5.28.0,<6,>=3.19.0 in /home/phong/miniconda3/lib/python3.12/site-packages (from wandb) (5.29.0)\r\n",
      "Requirement already satisfied: psutil>=5.0.0 in /home/phong/miniconda3/lib/python3.12/site-packages (from wandb) (5.9.0)\r\n",
      "Requirement already satisfied: pyyaml in /home/phong/miniconda3/lib/python3.12/site-packages (from wandb) (6.0.2)\r\n",
      "Requirement already satisfied: requests<3,>=2.0.0 in /home/phong/miniconda3/lib/python3.12/site-packages (from wandb) (2.31.0)\r\n",
      "Requirement already satisfied: sentry-sdk>=2.0.0 in /home/phong/miniconda3/lib/python3.12/site-packages (from wandb) (2.19.0)\r\n",
      "Requirement already satisfied: setproctitle in /home/phong/miniconda3/lib/python3.12/site-packages (from wandb) (1.3.4)\r\n",
      "Requirement already satisfied: setuptools in /home/phong/miniconda3/lib/python3.12/site-packages (from wandb) (68.2.2)\r\n",
      "Requirement already satisfied: six>=1.4.0 in /home/phong/miniconda3/lib/python3.12/site-packages (from docker-pycreds>=0.4.0->wandb) (1.16.0)\r\n",
      "Requirement already satisfied: gitdb<5,>=4.0.1 in /home/phong/miniconda3/lib/python3.12/site-packages (from gitpython!=3.1.29,>=1.0.0->wandb) (4.0.11)\r\n",
      "Requirement already satisfied: charset-normalizer<4,>=2 in /home/phong/miniconda3/lib/python3.12/site-packages (from requests<3,>=2.0.0->wandb) (2.0.4)\r\n",
      "Requirement already satisfied: idna<4,>=2.5 in /home/phong/miniconda3/lib/python3.12/site-packages (from requests<3,>=2.0.0->wandb) (3.4)\r\n",
      "Requirement already satisfied: urllib3<3,>=1.21.1 in /home/phong/miniconda3/lib/python3.12/site-packages (from requests<3,>=2.0.0->wandb) (2.1.0)\r\n",
      "Requirement already satisfied: certifi>=2017.4.17 in /home/phong/miniconda3/lib/python3.12/site-packages (from requests<3,>=2.0.0->wandb) (2024.8.30)\r\n",
      "Requirement already satisfied: smmap<6,>=3.0.1 in /home/phong/miniconda3/lib/python3.12/site-packages (from gitdb<5,>=4.0.1->gitpython!=3.1.29,>=1.0.0->wandb) (5.0.1)\r\n"
     ]
    }
   ],
   "execution_count": 4
  },
  {
   "metadata": {
    "ExecuteTime": {
     "end_time": "2024-12-03T13:52:54.203743Z",
     "start_time": "2024-12-03T13:52:53.812565Z"
    }
   },
   "cell_type": "code",
   "source": [
    "import numpy as np\n",
    "import os\n",
    "from tqdm import tqdm, trange\n",
    "\n",
    "import torch\n",
    "import torch.nn as nn\n",
    "from torch.optim import Adam\n",
    "from torch.nn import CrossEntropyLoss\n",
    "from torch.utils.data import DataLoader\n",
    "\n",
    "from torchvision.transforms import ToTensor\n",
    "from torchvision.datasets.mnist import MNIST\n",
    "import wandb"
   ],
   "id": "54abb3a3c986c482",
   "outputs": [],
   "execution_count": 5
  },
  {
   "metadata": {
    "ExecuteTime": {
     "end_time": "2024-12-03T13:52:57.175426Z",
     "start_time": "2024-12-03T13:52:54.211386Z"
    }
   },
   "cell_type": "code",
   "source": [
    "wandb.login()\n",
    "run = wandb.init(project=\"VIT_WANDB_MNIST\",\n",
    "                 config={\n",
    "                         \"learning_rate\": 0.0005,\n",
    "                         \"dataset\": \"MNIST\"})"
   ],
   "id": "2f568331fcd0f932",
   "outputs": [
    {
     "name": "stderr",
     "output_type": "stream",
     "text": [
      "\u001B[34m\u001B[1mwandb\u001B[0m: Using wandb-core as the SDK backend.  Please refer to https://wandb.me/wandb-core for more information.\n",
      "\u001B[34m\u001B[1mwandb\u001B[0m: Currently logged in as: \u001B[33mphongminhphan\u001B[0m (\u001B[33mphongminhphan-vietnam-national-university-hanoi\u001B[0m). Use \u001B[1m`wandb login --relogin`\u001B[0m to force relogin\n"
     ]
    },
    {
     "data": {
      "text/plain": [
       "VBox(children=(Label(value='Waiting for wandb.init()...\\r'), FloatProgress(value=0.011112487822214866, max=1.0…"
      ],
      "application/vnd.jupyter.widget-view+json": {
       "version_major": 2,
       "version_minor": 0,
       "model_id": "5066a197005e423b97cd9f58218a922a"
      }
     },
     "metadata": {},
     "output_type": "display_data"
    },
    {
     "data": {
      "text/plain": [
       "<IPython.core.display.HTML object>"
      ],
      "text/html": [
       "Tracking run with wandb version 0.18.7"
      ]
     },
     "metadata": {},
     "output_type": "display_data"
    },
    {
     "data": {
      "text/plain": [
       "<IPython.core.display.HTML object>"
      ],
      "text/html": [
       "Run data is saved locally in <code>/home/phong/PycharmProjects/VIT_WANDB/wandb/run-20241203_205255-igybittt</code>"
      ]
     },
     "metadata": {},
     "output_type": "display_data"
    },
    {
     "data": {
      "text/plain": [
       "<IPython.core.display.HTML object>"
      ],
      "text/html": [
       "Syncing run <strong><a href='https://wandb.ai/phongminhphan-vietnam-national-university-hanoi/VIT_WANDB_MNIST/runs/igybittt' target=\"_blank\">vague-sky-8</a></strong> to <a href='https://wandb.ai/phongminhphan-vietnam-national-university-hanoi/VIT_WANDB_MNIST' target=\"_blank\">Weights & Biases</a> (<a href='https://wandb.me/developer-guide' target=\"_blank\">docs</a>)<br/>"
      ]
     },
     "metadata": {},
     "output_type": "display_data"
    },
    {
     "data": {
      "text/plain": [
       "<IPython.core.display.HTML object>"
      ],
      "text/html": [
       " View project at <a href='https://wandb.ai/phongminhphan-vietnam-national-university-hanoi/VIT_WANDB_MNIST' target=\"_blank\">https://wandb.ai/phongminhphan-vietnam-national-university-hanoi/VIT_WANDB_MNIST</a>"
      ]
     },
     "metadata": {},
     "output_type": "display_data"
    },
    {
     "data": {
      "text/plain": [
       "<IPython.core.display.HTML object>"
      ],
      "text/html": [
       " View run at <a href='https://wandb.ai/phongminhphan-vietnam-national-university-hanoi/VIT_WANDB_MNIST/runs/igybittt' target=\"_blank\">https://wandb.ai/phongminhphan-vietnam-national-university-hanoi/VIT_WANDB_MNIST/runs/igybittt</a>"
      ]
     },
     "metadata": {},
     "output_type": "display_data"
    }
   ],
   "execution_count": 6
  },
  {
   "metadata": {
    "ExecuteTime": {
     "end_time": "2024-12-03T13:52:57.208048Z",
     "start_time": "2024-12-03T13:52:57.182834Z"
    }
   },
   "cell_type": "code",
   "source": [
    "device = torch.device(\"cuda:0\" if torch.cuda.is_available() else \"cpu\")\n",
    "device"
   ],
   "id": "6f8d60d4fe775510",
   "outputs": [
    {
     "data": {
      "text/plain": [
       "device(type='cuda', index=0)"
      ]
     },
     "execution_count": 7,
     "metadata": {},
     "output_type": "execute_result"
    }
   ],
   "execution_count": 7
  },
  {
   "metadata": {
    "ExecuteTime": {
     "end_time": "2024-12-03T13:52:57.347761Z",
     "start_time": "2024-12-03T13:52:57.254100Z"
    }
   },
   "cell_type": "code",
   "source": [
    "transform = ToTensor()\n",
    "train_set = MNIST(root='./data', train=True, transform=transform, download=True)\n",
    "test_set = MNIST(root='./data', train=False, transform=transform, download=True)\n",
    "\n",
    "train_loader = DataLoader(train_set, batch_size=64, shuffle=True)\n",
    "test_loader = DataLoader(test_set, batch_size=64, shuffle=False)"
   ],
   "id": "f86c49d9504944dd",
   "outputs": [],
   "execution_count": 8
  },
  {
   "metadata": {
    "ExecuteTime": {
     "end_time": "2024-12-03T13:52:57.356635Z",
     "start_time": "2024-12-03T13:52:57.353053Z"
    }
   },
   "cell_type": "code",
   "source": [
    "# tranfer list of images to list of one-dimension vectors\n",
    "def patchify(images, n_patches):\n",
    "    n , c , h, w = images.shape  \n",
    "    patches = torch.zeros(n, n_patches **2 , h * w * c // n_patches ** 2)\n",
    "    patch_size = h // n_patches\n",
    "    for id, image in enumerate(images):\n",
    "        for i in range(n_patches):\n",
    "            for j in range(patch_size ):\n",
    "                patch = image[:, i * patch_size : (i + 1) * patch_size ,j * patch_size : (j + 1) * patch_size ]\n",
    "                patches[id,i* n_patches + j] = patch.flatten()\n",
    "    return patches\n",
    "\n",
    "# Not in the paper, use to help model know the location of patch in the origin images\n",
    "def get_positional_embeddings(sequence_length, d):\n",
    "    result = torch.ones(sequence_length, d)\n",
    "    for i in range(sequence_length):\n",
    "        for j in range(d):\n",
    "            result[i][j] = np.sin(i / (10000 ** (j / d))) if j % 2 == 0 else np.cos(i / (10000 ** ((j - 1) / d)))\n",
    "    return result              "
   ],
   "id": "92d04a3a0b268819",
   "outputs": [],
   "execution_count": 9
  },
  {
   "metadata": {
    "ExecuteTime": {
     "end_time": "2024-12-03T13:52:57.408526Z",
     "start_time": "2024-12-03T13:52:57.402894Z"
    }
   },
   "cell_type": "code",
   "source": [
    "class MyViT(nn.Module):\n",
    "    def __init__(self, chw, n_patches=7, n_blocks=2, hidden_d=8, n_heads=2, out_d=10):\n",
    "        # Super constructor\n",
    "        super(MyViT, self).__init__()\n",
    "        # Attributes\n",
    "        self.chw = chw  # ( C , H , W )\n",
    "        self.n_patches = n_patches\n",
    "        self.n_blocks = n_blocks\n",
    "        self.n_heads = n_heads\n",
    "        self.hidden_d = hidden_d\n",
    "        self.patch_size = (chw[1] / n_patches, chw[2] / n_patches)\n",
    "\n",
    "        # Linear mapper\n",
    "        self.input_d = int(chw[0] * self.patch_size[0] * self.patch_size[1])\n",
    "        self.linear_mapper = nn.Linear(self.input_d, self.hidden_d)\n",
    "\n",
    "        # Learnable classification token\n",
    "        self.class_token = nn.Parameter(torch.rand(1, self.hidden_d))\n",
    "\n",
    "        #  Positional embedding (why use register_buffer, because postion parameter do no learnable but can easy compute by formula\n",
    "        self.register_buffer(\"positional_embeddings\",get_positional_embeddings(n_patches**2 + 1, hidden_d),persistent=False,)\n",
    "\n",
    "        #  Transformer encoder blocks\n",
    "        self.blocks = nn.ModuleList([MyViTBlock(hidden_d, n_heads) for _ in range(n_blocks)])\n",
    "\n",
    "        #  Classification MLPk\n",
    "        self.mlp = nn.Sequential(nn.Linear(self.hidden_d, out_d), nn.Softmax(dim=-1))\n",
    "\n",
    "    def forward(self, images):\n",
    "        # Dividing images into patches\n",
    "        n, c, h, w = images.shape\n",
    "        patches = patchify(images, self.n_patches).to(self.positional_embeddings.device)\n",
    "\n",
    "        # Map the vector corresponding to each patch to the hidden size dimension\n",
    "        tokens = self.linear_mapper(patches)\n",
    "        # Adding classification token to the tokens\n",
    "        tokens = torch.cat((self.class_token.expand(n, 1, -1), tokens), dim=1)\n",
    "        # Adding positional embedding\n",
    "        out = tokens + self.positional_embeddings.repeat(n, 1, 1)\n",
    "        # Transformer Blocks\n",
    "        for block in self.blocks:\n",
    "            out = block(out)\n",
    "        # Getting the classification token only\n",
    "        out = out[:, 0]\n",
    "\n",
    "        return self.mlp(out)  # Map to output dimension, output category distribution\n"
   ],
   "id": "edff01419766aa66",
   "outputs": [],
   "execution_count": 10
  },
  {
   "metadata": {
    "ExecuteTime": {
     "end_time": "2024-12-03T13:52:57.458182Z",
     "start_time": "2024-12-03T13:52:57.451530Z"
    }
   },
   "cell_type": "code",
   "source": [
    "class MyMSA(nn.Module):\n",
    "    def __init__(self, d, n_heads=2):\n",
    "        super(MyMSA, self).__init__()\n",
    "        self.d = d\n",
    "        self.n_heads = n_heads\n",
    "\n",
    "        assert d % n_heads == 0, f\"Can't divide dimension {d} into {n_heads} heads\"\n",
    "\n",
    "        d_head = int(d / n_heads)\n",
    "        self.q_mappings = nn.ModuleList([nn.Linear(d_head, d_head) for _ in range(self.n_heads)])\n",
    "        self.k_mappings = nn.ModuleList([nn.Linear(d_head, d_head) for _ in range(self.n_heads)])\n",
    "        self.v_mappings = nn.ModuleList([nn.Linear(d_head, d_head) for _ in range(self.n_heads)])\n",
    "        self.d_head = d_head\n",
    "        self.softmax = nn.Softmax(dim=-1)\n",
    "\n",
    "    def forward(self, sequences):\n",
    "        # Sequences has shape (N, seq_length, token_dim)\n",
    "        # We go into shape    (N, seq_length, n_heads, token_dim / n_heads)\n",
    "        # And come back to    (N, seq_length, item_dim)  (through concatenation)\n",
    "        result = []\n",
    "        for sequence in sequences:\n",
    "            seq_result = []\n",
    "            for head in range(self.n_heads):\n",
    "                q_mapping = self.q_mappings[head]\n",
    "                k_mapping = self.k_mappings[head]\n",
    "                v_mapping = self.v_mappings[head]\n",
    "\n",
    "                seq = sequence[:, head * self.d_head : (head + 1) * self.d_head]\n",
    "                q, k, v = q_mapping(seq), k_mapping(seq), v_mapping(seq)\n",
    "\n",
    "                attention = self.softmax(q @ k.T / (self.d_head**0.5))\n",
    "                seq_result.append(attention @ v)\n",
    "            result.append(torch.hstack(seq_result))\n",
    "        return torch.cat([torch.unsqueeze(r, dim=0) for r in result])\n",
    "\n",
    "\n",
    "class MyViTBlock(nn.Module):\n",
    "    def __init__(self, hidden_d, n_heads, mlp_ratio=4):\n",
    "        super(MyViTBlock, self).__init__()\n",
    "        self.hidden_d = hidden_d\n",
    "        self.n_heads = n_heads\n",
    "\n",
    "        self.norm1 = nn.LayerNorm(hidden_d)\n",
    "        self.mhsa = MyMSA(hidden_d, n_heads)\n",
    "        self.norm2 = nn.LayerNorm(hidden_d)\n",
    "        self.mlp = nn.Sequential(\n",
    "            nn.Linear(hidden_d, mlp_ratio * hidden_d),\n",
    "            nn.GELU(),\n",
    "            nn.Linear(mlp_ratio * hidden_d, hidden_d),\n",
    "        )\n",
    "\n",
    "    def forward(self, x):\n",
    "        out = x + self.mhsa(self.norm1(x))\n",
    "        out = out + self.mlp(self.norm2(out))\n",
    "        return out"
   ],
   "id": "17c7aea07f592a01",
   "outputs": [],
   "execution_count": 11
  },
  {
   "metadata": {
    "ExecuteTime": {
     "end_time": "2024-12-03T13:52:57.523297Z",
     "start_time": "2024-12-03T13:52:57.503369Z"
    }
   },
   "cell_type": "code",
   "source": [
    "model = MyViT(chw=(1, 28, 28),n_patches=7)\n",
    "x = torch.randn(7, 1, 28, 28) # Dummy images\n",
    "print(model(x)) # torch.Size([7, 49, 16])"
   ],
   "id": "bba3e450dd17f2e3",
   "outputs": [
    {
     "name": "stdout",
     "output_type": "stream",
     "text": [
      "tensor([[0.1252, 0.0454, 0.1185, 0.0180, 0.2779, 0.0663, 0.0951, 0.1341, 0.0968,\n",
      "         0.0227],\n",
      "        [0.1242, 0.0421, 0.1151, 0.0174, 0.2894, 0.0627, 0.0892, 0.1334, 0.1032,\n",
      "         0.0233],\n",
      "        [0.1297, 0.0461, 0.1125, 0.0187, 0.2686, 0.0664, 0.0904, 0.1389, 0.1059,\n",
      "         0.0227],\n",
      "        [0.1270, 0.0448, 0.1115, 0.0183, 0.2755, 0.0659, 0.0894, 0.1390, 0.1054,\n",
      "         0.0231],\n",
      "        [0.1297, 0.0430, 0.1083, 0.0175, 0.2820, 0.0638, 0.0880, 0.1367, 0.1079,\n",
      "         0.0230],\n",
      "        [0.1253, 0.0418, 0.1178, 0.0174, 0.2861, 0.0620, 0.0882, 0.1339, 0.1047,\n",
      "         0.0227],\n",
      "        [0.1277, 0.0430, 0.1103, 0.0174, 0.2819, 0.0637, 0.0913, 0.1379, 0.1035,\n",
      "         0.0231]], grad_fn=<SoftmaxBackward0>)\n"
     ]
    }
   ],
   "execution_count": 12
  },
  {
   "metadata": {
    "ExecuteTime": {
     "end_time": "2024-12-03T13:52:57.556154Z",
     "start_time": "2024-12-03T13:52:57.551470Z"
    }
   },
   "cell_type": "code",
   "source": [
    "def train(model, train_loader, optimizer, criterion, device):\n",
    "    model.train()\n",
    "    train_loss = 0.0\n",
    "    for batch in tqdm(train_loader, desc=\"Training\", leave=False):\n",
    "        x, y = batch\n",
    "        x, y = x.to(device), y.to(device)\n",
    "        y_hat = model(x)\n",
    "        loss = criterion(y_hat, y)\n",
    "        train_loss += loss.detach().cpu().item() / len(train_loader)\n",
    "        optimizer.zero_grad()\n",
    "        loss.backward()\n",
    "        optimizer.step()\n",
    "    return train_loss\n",
    "\n",
    "def test(model, test_loader,criterion, device):\n",
    "    model.eval()\n",
    "    with torch.no_grad():\n",
    "        correct, total = 0, 0\n",
    "        test_loss = 0.0\n",
    "        for batch in tqdm(test_loader, desc=\"Testing\", leave=False):\n",
    "            x, y = batch\n",
    "            x, y = x.to(device), y.to(device)\n",
    "            y_hat = model(x)\n",
    "            loss = criterion(y_hat, y)\n",
    "            test_loss += loss.detach().cpu().item() / len(test_loader)\n",
    "\n",
    "            correct += torch.sum(torch.argmax(y_hat, dim=1) == y).detach().cpu().item()\n",
    "            total += len(x)\n",
    "\n",
    "    return test_loss, correct / total "
   ],
   "id": "20aaa93a5005069d",
   "outputs": [],
   "execution_count": 13
  },
  {
   "metadata": {
    "ExecuteTime": {
     "end_time": "2024-12-03T13:52:57.684675Z",
     "start_time": "2024-12-03T13:52:57.598217Z"
    }
   },
   "cell_type": "code",
   "source": [
    "model = MyViT((1, 28, 28), n_patches=7, n_blocks=2, hidden_d=8, n_heads=2, out_d=10).to(device)\n",
    "N_EPOCHS= 10  # Increased epochs to demonstrate early stopping\n",
    "LR = 0.005\n",
    "optimizer = Adam(model.parameters(), lr=LR)\n",
    "criterion = CrossEntropyLoss()\n",
    "\n",
    "best_accuracy = 0.0\n",
    "patience = 3\n",
    "epochs_without_improvement = 0\n",
    "def trainer():\n",
    "    \n",
    "    if os.path.exists(\"best_model.pth\"):\n",
    "        print(\"Loading best model from previous training...\")\n",
    "        model.load_state_dict(torch.load(\"best_model.pth\"))\n",
    "        # Evaluate the loaded model to get its accuracy\n",
    "        test_loss, best_accuracy = test(model, test_loader, criterion, device)\n",
    "        print(f\"Loaded model test loss: {test_loss:.2f}\")\n",
    "        print(f\"Loaded model test accuracy: {best_accuracy * 100:.2f}%\")\n",
    "    for epoch in range(N_EPOCHS):\n",
    "        train_loss = train(model, train_loader, optimizer, criterion, device)\n",
    "        print(f\"Epoch {epoch + 1}/{N_EPOCHS} loss: {train_loss:.2f}\")\n",
    "\n",
    "        test_loss, test_accuracy = test(model, test_loader, criterion, device)\n",
    "        print(f\"Test loss: {test_loss:.2f}\")\n",
    "        print(f\"Test accuracy: {test_accuracy * 100:.2f}%\")\n",
    "        wandb.log({\n",
    "                \"train_loss\": train_loss,\n",
    "                \"test_loss\": test_loss,\n",
    "                \"test_accuracy\": test_accuracy\n",
    "            })\n",
    "\n",
    "        # Early stopping and best model saving\n",
    "        if test_accuracy > best_accuracy:\n",
    "            best_accuracy = test_accuracy\n",
    "            torch.save(model.state_dict(), \"best_model.pth\")  # Save best model\n",
    "            epochs_without_improvement = 0\n",
    "        else:\n",
    "            epochs_without_improvement += 1\n",
    "            if epochs_without_improvement >= patience:\n",
    "                print(\"Early stopping triggered!\")\n",
    "                break\n",
    "        \n"
   ],
   "id": "779234ed62b43c3c",
   "outputs": [],
   "execution_count": 14
  },
  {
   "metadata": {
    "ExecuteTime": {
     "end_time": "2024-12-03T13:52:57.712541Z",
     "start_time": "2024-12-03T13:52:57.710429Z"
    }
   },
   "cell_type": "code",
   "source": "# trainer()",
   "id": "45b8236ab0214857",
   "outputs": [],
   "execution_count": 15
  },
  {
   "metadata": {
    "ExecuteTime": {
     "end_time": "2024-12-03T13:53:14.916405Z",
     "start_time": "2024-12-03T13:52:57.760044Z"
    }
   },
   "cell_type": "code",
   "source": [
    "model.load_state_dict(torch.load(\"best_model.pth\"))\n",
    "test_loss, test_accuracy = test(model, test_loader, criterion, device)\n",
    "print(f\"Final test loss (best model): {test_loss:.2f}\")\n",
    "print(f\"Final test accuracy (best model): {test_accuracy * 100:.2f}%\")\n"
   ],
   "id": "2251386b6a3ccec9",
   "outputs": [
    {
     "name": "stderr",
     "output_type": "stream",
     "text": [
      "/tmp/ipykernel_75967/2230190768.py:1: FutureWarning: You are using `torch.load` with `weights_only=False` (the current default value), which uses the default pickle module implicitly. It is possible to construct malicious pickle data which will execute arbitrary code during unpickling (See https://github.com/pytorch/pytorch/blob/main/SECURITY.md#untrusted-models for more details). In a future release, the default value for `weights_only` will be flipped to `True`. This limits the functions that could be executed during unpickling. Arbitrary objects will no longer be allowed to be loaded via this mode unless they are explicitly allowlisted by the user via `torch.serialization.add_safe_globals`. We recommend you start setting `weights_only=True` for any use case where you don't have full control of the loaded file. Please open an issue on GitHub for any issues related to this experimental feature.\n",
      "  model.load_state_dict(torch.load(\"best_model.pth\"))\n",
      "                                                          "
     ]
    },
    {
     "name": "stdout",
     "output_type": "stream",
     "text": [
      "Final test loss (best model): 1.70\n",
      "Final test accuracy (best model): 76.25%\n"
     ]
    },
    {
     "name": "stderr",
     "output_type": "stream",
     "text": [
      "\r"
     ]
    }
   ],
   "execution_count": 16
  },
  {
   "metadata": {
    "ExecuteTime": {
     "end_time": "2024-12-03T13:55:10.018393Z",
     "start_time": "2024-12-03T13:55:09.693165Z"
    }
   },
   "cell_type": "code",
   "source": [
    "from matplotlib import pyplot as plt, transforms\n",
    "from PIL import Image\n",
    "\n",
    "\n",
    "# def predict(image_path):\n",
    "#     # Load and preprocess the image\n",
    "#     \n",
    "#     image = Image.open(image_path).convert('')  # Convert to grayscale\n",
    "#     image = Image.eval(image, lambda x: 255 - x)\n",
    "# \n",
    "#     image = image.resize((28, 28))\n",
    "#     plt.imshow(image)\n",
    "#     plt.axis('off')\n",
    "#     plt.show()\n",
    "#     transform = transforms.Compose([\n",
    "#         transforms.ToTensor(),\n",
    "#         transforms.Normalize((0.1307,), (0.3081,))\n",
    "#     ])\n",
    "# \n",
    "#     image = transform(image).unsqueeze(0)\n",
    "# \n",
    "#     # Move tensor to the device\n",
    "#     image = image.to(device)\n",
    "# \n",
    "#     # Make prediction\n",
    "#     model.load_state_dict(torch.load(\"best_model.pth\"))\n",
    "#     model.eval()  # Set model to evaluation mode\n",
    "#     with torch.no_grad():\n",
    "#         output = model(image)\n",
    "#         _, predicted = torch.max(output.data, 1)\n",
    "#         predicted_class = predicted.item()\n",
    "# \n",
    "#     return predicted_class\n",
    "# \n",
    "\n",
    "# Example usage:\n",
    "\n",
    "def predict(model, image, device):\n",
    "    \n",
    "    model.eval()\n",
    "    with torch.no_grad():\n",
    "        image = image.unsqueeze(0).to(device)\n",
    "        output = model(image)\n",
    "        _, predicted = torch.max(output.data, 1)\n",
    "    return predicted.item()\n",
    "model.load_state_dict(torch.load(\"best_model.pth\"))\n",
    "\n",
    "# Chọn một số hình ảnh ngẫu nhiên từ test_set\n",
    "num_samples = 5\n",
    "indices = torch.randint(0, len(test_set), (num_samples,))\n",
    "\n",
    "# Dự đoán và hiển thị kết quả\n",
    "for i in indices:\n",
    "    image, label = test_set[i]\n",
    "    predicted_label = predict(model, image, device)\n",
    "\n",
    "    print(f\"Hình ảnh thứ {i + 1}:\")\n",
    "    print(f\"Nhãn thực tế: {label}\")\n",
    "    print(f\"Nhãn dự đoán: {predicted_label}\")\n",
    "\n",
    "    # Hiển thị hình ảnh\n",
    "    import matplotlib.pyplot as plt\n",
    "    plt.imshow(image.squeeze(), cmap='gray')\n",
    "    plt.show()"
   ],
   "id": "1d7d3d8206af2fee",
   "outputs": [
    {
     "name": "stdout",
     "output_type": "stream",
     "text": [
      "Hình ảnh thứ 7085:\n",
      "Nhãn thực tế: 0\n",
      "Nhãn dự đoán: 0\n"
     ]
    },
    {
     "name": "stderr",
     "output_type": "stream",
     "text": [
      "/tmp/ipykernel_75967/2317978726.py:46: FutureWarning: You are using `torch.load` with `weights_only=False` (the current default value), which uses the default pickle module implicitly. It is possible to construct malicious pickle data which will execute arbitrary code during unpickling (See https://github.com/pytorch/pytorch/blob/main/SECURITY.md#untrusted-models for more details). In a future release, the default value for `weights_only` will be flipped to `True`. This limits the functions that could be executed during unpickling. Arbitrary objects will no longer be allowed to be loaded via this mode unless they are explicitly allowlisted by the user via `torch.serialization.add_safe_globals`. We recommend you start setting `weights_only=True` for any use case where you don't have full control of the loaded file. Please open an issue on GitHub for any issues related to this experimental feature.\n",
      "  model.load_state_dict(torch.load(\"best_model.pth\"))\n"
     ]
    },
    {
     "data": {
      "text/plain": [
       "<Figure size 640x480 with 1 Axes>"
      ],
      "image/png": "[encoded data removed]"
     },
     "metadata": {},
     "output_type": "display_data"
    },
    {
     "name": "stdout",
     "output_type": "stream",
     "text": [
      "Hình ảnh thứ 2208:\n",
      "Nhãn thực tế: 5\n",
      "Nhãn dự đoán: 5\n"
     ]
    },
    {
     "data": {
      "text/plain": [
       "<Figure size 640x480 with 1 Axes>"
      ],
      "image/png": "[encoded data removed]"
     },
     "metadata": {},
     "output_type": "display_data"
    },
    {
     "name": "stdout",
     "output_type": "stream",
     "text": [
      "Hình ảnh thứ 6741:\n",
      "Nhãn thực tế: 9\n",
      "Nhãn dự đoán: 0\n"
     ]
    },
    {
     "data": {
      "text/plain": [
       "<Figure size 640x480 with 1 Axes>"
      ],
      "image/png": "[encoded data removed]"
     },
     "metadata": {},
     "output_type": "display_data"
    },
    {
     "name": "stdout",
     "output_type": "stream",
     "text": [
      "Hình ảnh thứ 5427:\n",
      "Nhãn thực tế: 4\n",
      "Nhãn dự đoán: 4\n"
     ]
    },
    {
     "data": {
      "text/plain": [
       "<Figure size 640x480 with 1 Axes>"
      ],
      "image/png": "[encoded data removed]"
     },
     "metadata": {},
     "output_type": "display_data"
    },
    {
     "name": "stdout",
     "output_type": "stream",
     "text": [
      "Hình ảnh thứ 3754:\n",
      "Nhãn thực tế: 7\n",
      "Nhãn dự đoán: 7\n"
     ]
    },
    {
     "data": {
      "text/plain": [
       "<Figure size 640x480 with 1 Axes>"
      ],
      "image/png": "[encoded data removed]"
     },
     "metadata": {},
     "output_type": "display_data"
    }
   ],
   "execution_count": 19
  }
 ],
 "metadata": {
  "kernelspec": {
   "display_name": "Python 3",
   "language": "python",
   "name": "python3"
  },
  "language_info": {
   "codemirror_mode": {
    "name": "ipython",
    "version": 2
   },
   "file_extension": ".py",
   "mimetype": "text/x-python",
   "name": "python",
   "nbconvert_exporter": "python",
   "pygments_lexer": "ipython2",
   "version": "2.7.6"
  }
 },
 "nbformat": 4,
 "nbformat_minor": 5
}
